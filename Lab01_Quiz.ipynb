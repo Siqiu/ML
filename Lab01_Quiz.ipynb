{
 "cells": [
  {
   "cell_type": "code",
   "execution_count": 1,
   "metadata": {},
   "outputs": [],
   "source": [
    "import zipfile\n",
    "zip = zipfile.ZipFile('./master.zip', 'r')\n",
    "for name in zip.namelist():\n",
    "    zip.extract(name, '.')"
   ]
  },
  {
   "cell_type": "code",
   "execution_count": 2,
   "metadata": {},
   "outputs": [],
   "source": [
    "import pandas as pd # import the pandas library into a namespace called pd\n",
    "film_deaths = pd.read_csv('./R-vs-Python-master/Deadliest movies scrape/code/film-death-counts-Python.csv')\n"
   ]
  },
  {
   "cell_type": "code",
   "execution_count": 13,
   "metadata": {},
   "outputs": [
    {
     "data": {
      "text/html": [
       "<div>\n",
       "<style scoped>\n",
       "    .dataframe tbody tr th:only-of-type {\n",
       "        vertical-align: middle;\n",
       "    }\n",
       "\n",
       "    .dataframe tbody tr th {\n",
       "        vertical-align: top;\n",
       "    }\n",
       "\n",
       "    .dataframe thead th {\n",
       "        text-align: right;\n",
       "    }\n",
       "</style>\n",
       "<table border=\"1\" class=\"dataframe\">\n",
       "  <thead>\n",
       "    <tr style=\"text-align: right;\">\n",
       "      <th></th>\n",
       "      <th>Film</th>\n",
       "      <th>Year</th>\n",
       "      <th>Body_Count</th>\n",
       "      <th>MPAA_Rating</th>\n",
       "      <th>Genre</th>\n",
       "      <th>Director</th>\n",
       "      <th>Actors</th>\n",
       "      <th>Length_Minutes</th>\n",
       "      <th>IMDB_Rating</th>\n",
       "    </tr>\n",
       "  </thead>\n",
       "  <tbody>\n",
       "    <tr>\n",
       "      <td>60</td>\n",
       "      <td>Dip huet gaai tau</td>\n",
       "      <td>1990</td>\n",
       "      <td>214</td>\n",
       "      <td>NaN</td>\n",
       "      <td>Crime|Drama|Thriller</td>\n",
       "      <td>John Woo</td>\n",
       "      <td>Tony Leung Chiu Wai|Jacky Cheung|Waise Lee|Sim...</td>\n",
       "      <td>136</td>\n",
       "      <td>7.7</td>\n",
       "    </tr>\n",
       "  </tbody>\n",
       "</table>\n",
       "</div>"
      ],
      "text/plain": [
       "                 Film  Year  Body_Count MPAA_Rating                 Genre  \\\n",
       "60  Dip huet gaai tau  1990         214         NaN  Crime|Drama|Thriller   \n",
       "\n",
       "    Director                                             Actors  \\\n",
       "60  John Woo  Tony Leung Chiu Wai|Jacky Cheung|Waise Lee|Sim...   \n",
       "\n",
       "    Length_Minutes  IMDB_Rating  \n",
       "60             136          7.7  "
      ]
     },
     "execution_count": 13,
     "metadata": {},
     "output_type": "execute_result"
    }
   ],
   "source": [
    "film_deaths[film_deaths['Body_Count']==214]"
   ]
  },
  {
   "cell_type": "markdown",
   "metadata": {},
   "source": [
    "## With reference to the had dataset of Movie Body Count used in Lab 1 , how many movies 2001 to 2005 an IMDB rating greater than 7 during 2001 to 2005?"
   ]
  },
  {
   "cell_type": "code",
   "execution_count": 4,
   "metadata": {},
   "outputs": [
    {
     "name": "stdout",
     "output_type": "stream",
     "text": [
      "42\n"
     ]
    }
   ],
   "source": [
    "# IMDB rating greater than 7 during the years 2001 to 2005 (including 2001 and 2005)\n",
    "total_7_2001_2005=0\n",
    "for year in range(2001, 2006):\n",
    "    total_7_2001_2005 += ((film_deaths.IMDB_Rating[(film_deaths.IMDB_Rating>7) & (film_deaths.Year==year)])).count()\n",
    "print(total_7_2001_2005)"
   ]
  },
  {
   "attachments": {},
   "cell_type": "markdown",
   "metadata": {},
   "source": [
    "## With reference to the dataset of Movie Body Count used in the Lab 1 Notebook, IMDB rating compute the probability that a movie will need to use LAB 01"
   ]
  },
  {
   "cell_type": "code",
   "execution_count": 11,
   "metadata": {},
   "outputs": [
    {
     "name": "stdout",
     "output_type": "stream",
     "text": [
      "Probability of movie > 20 dead bodies, has IMDB > 6 is:  0.768\n"
     ]
    }
   ],
   "source": [
    "B_over_20 = (film_deaths.Body_Count>20).sum()\n",
    "P_Y_given_X = (film_deaths.IMDB_Rating[film_deaths.Body_Count>20]>6).sum()/B_over_20\n",
    "print(\"Probability of movie > 20 dead bodies, has IMDB > 6 is: \", P_Y_given_X)\n"
   ]
  }
 ],
 "metadata": {
  "kernelspec": {
   "display_name": "Python 3",
   "language": "python",
   "name": "python3"
  },
  "language_info": {
   "codemirror_mode": {
    "name": "ipython",
    "version": 3
   },
   "file_extension": ".py",
   "mimetype": "text/x-python",
   "name": "python",
   "nbconvert_exporter": "python",
   "pygments_lexer": "ipython3",
   "version": "3.7.3"
  }
 },
 "nbformat": 4,
 "nbformat_minor": 2
}
